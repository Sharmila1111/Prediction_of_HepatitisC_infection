{
 "cells": [
  {
   "cell_type": "code",
   "execution_count": 142,
   "id": "0804425c",
   "metadata": {},
   "outputs": [],
   "source": [
    "import pandas as pd \n",
    "import numpy as np\n",
    "import matplotlib.pyplot as plt\n",
    "import seaborn as sns \n",
    "from sklearn.model_selection import train_test_split\n",
    "from  sklearn.preprocessing import StandardScaler\n",
    "from sklearn import metrics\n",
    "from tensorflow import keras\n",
    "from sklearn.linear_model import LogisticRegression\n",
    "from sklearn.metrics import confusion_matrix, classification_report \n",
    "from sklearn.neighbors import KNeighborsClassifier"
   ]
  },
  {
   "cell_type": "code",
   "execution_count": 143,
   "id": "094996c3",
   "metadata": {},
   "outputs": [],
   "source": [
    "data = pd.read_csv(r\"C:\\Users\\sharm\\Downloads\\HepatitisCdata.csv\")"
   ]
  },
  {
   "cell_type": "code",
   "execution_count": 144,
   "id": "79cdbfe2",
   "metadata": {},
   "outputs": [],
   "source": [
    "data.dropna(inplace= True)"
   ]
  },
  {
   "cell_type": "code",
   "execution_count": 145,
   "id": "0ae90e71",
   "metadata": {},
   "outputs": [
    {
     "name": "stderr",
     "output_type": "stream",
     "text": [
      "C:\\Users\\sharm\\anaconda3\\lib\\site-packages\\pandas\\core\\indexing.py:1732: SettingWithCopyWarning: \n",
      "A value is trying to be set on a copy of a slice from a DataFrame\n",
      "\n",
      "See the caveats in the documentation: https://pandas.pydata.org/pandas-docs/stable/user_guide/indexing.html#returning-a-view-versus-a-copy\n",
      "  self._setitem_single_block(indexer, value, name)\n"
     ]
    }
   ],
   "source": [
    "data[\"Category\"].loc[data[\"Category\"].isin([\"1=Hepatitis\",'2=Fibrosis','3=Cirrhosis'])] = 1\n",
    "data[\"Category\"].loc[data['Category'].isin(['0=Blood Donor',\"0s=suspect Blood Donor\"])] = 0 "
   ]
  },
  {
   "cell_type": "code",
   "execution_count": 146,
   "id": "9f4cdbdb",
   "metadata": {},
   "outputs": [],
   "source": [
    "data[\"Sex\"] = data['Sex'].map({'m':1,'f':2})"
   ]
  },
  {
   "cell_type": "code",
   "execution_count": 147,
   "id": "f9a5de86",
   "metadata": {},
   "outputs": [],
   "source": [
    "data['Category']=data['Category'].astype(float)"
   ]
  },
  {
   "cell_type": "code",
   "execution_count": 148,
   "id": "6306f234",
   "metadata": {},
   "outputs": [],
   "source": [
    "data=data.drop('Unnamed: 0', axis=1)"
   ]
  },
  {
   "cell_type": "code",
   "execution_count": 149,
   "id": "63a2ffb9",
   "metadata": {},
   "outputs": [],
   "source": [
    "X = data.drop(\"Category\",axis=1)"
   ]
  },
  {
   "cell_type": "code",
   "execution_count": 150,
   "id": "4213c940",
   "metadata": {},
   "outputs": [],
   "source": [
    "y = data['Category']"
   ]
  },
  {
   "cell_type": "code",
   "execution_count": 151,
   "id": "fe51c435",
   "metadata": {},
   "outputs": [],
   "source": [
    "x_train, x_test, y_train, y_test = train_test_split(X,y, test_size = 0.2, random_state=42)"
   ]
  },
  {
   "cell_type": "code",
   "execution_count": 152,
   "id": "3d41a51e",
   "metadata": {},
   "outputs": [],
   "source": [
    "scaler = StandardScaler()\n",
    "x_train = scaler.fit_transform(x_train)\n",
    "x_test= scaler.transform(x_test)"
   ]
  },
  {
   "cell_type": "code",
   "execution_count": 153,
   "id": "a14f4e8c",
   "metadata": {},
   "outputs": [
    {
     "name": "stdout",
     "output_type": "stream",
     "text": [
      "Accuracy of LogisticRegression: 0.9576271186440678\n"
     ]
    }
   ],
   "source": [
    "lr = LogisticRegression()\n",
    "lr.fit(x_train,y_train)\n",
    "LogisticRegressionScore = lr.score(x_test, y_test)\n",
    "print(f'Accuracy of LogisticRegression: {LogisticRegressionScore}')"
   ]
  },
  {
   "cell_type": "code",
   "execution_count": 154,
   "id": "d9c450e7",
   "metadata": {},
   "outputs": [
    {
     "name": "stdout",
     "output_type": "stream",
     "text": [
      "              precision    recall  f1-score   support\n",
      "\n",
      "         0.0       0.95      1.00      0.98       101\n",
      "         1.0       1.00      0.71      0.83        17\n",
      "\n",
      "    accuracy                           0.96       118\n",
      "   macro avg       0.98      0.85      0.90       118\n",
      "weighted avg       0.96      0.96      0.95       118\n",
      "\n"
     ]
    }
   ],
   "source": [
    "y_pred_lr = lr.predict(x_test)\n",
    "print(metrics.classification_report(y_test, y_pred_lr))"
   ]
  },
  {
   "cell_type": "code",
   "execution_count": 155,
   "id": "171b1e33",
   "metadata": {},
   "outputs": [
    {
     "name": "stdout",
     "output_type": "stream",
     "text": [
      "Accuracy of KNC: 0.9322033898305084\n"
     ]
    }
   ],
   "source": [
    "KNC = KNeighborsClassifier()\n",
    "KNC.fit(x_train, y_train)\n",
    "KNeighborsClassifierScore = KNC.score(x_test, y_test)\n",
    "print(f'Accuracy of KNC: {KNeighborsClassifierScore}')"
   ]
  },
  {
   "cell_type": "code",
   "execution_count": 156,
   "id": "ab383810",
   "metadata": {
    "scrolled": true
   },
   "outputs": [
    {
     "name": "stdout",
     "output_type": "stream",
     "text": [
      "              precision    recall  f1-score   support\n",
      "\n",
      "         0.0       0.93      1.00      0.96       101\n",
      "         1.0       1.00      0.53      0.69        17\n",
      "\n",
      "    accuracy                           0.93       118\n",
      "   macro avg       0.96      0.76      0.83       118\n",
      "weighted avg       0.94      0.93      0.92       118\n",
      "\n"
     ]
    }
   ],
   "source": [
    "y_pred_KNC = KNC.predict(x_test)\n",
    "print(metrics.classification_report(y_test,y_pred_KNC))"
   ]
  },
  {
   "cell_type": "code",
   "execution_count": 157,
   "id": "76484335",
   "metadata": {},
   "outputs": [
    {
     "data": {
      "text/plain": [
       "(<keras.layers.core.dense.Dense at 0x17a3a871940>,)"
      ]
     },
     "execution_count": 157,
     "metadata": {},
     "output_type": "execute_result"
    }
   ],
   "source": [
    "model = keras.Sequential([keras.layers.Dense(12,input_shape=(12,),activation='relu'),keras.layers.Dense(5,activation='softmax')])\n",
    "\n",
    "model.compile(optimizer='adam',metrics=['accuracy'],loss='sparse_categorical_crossentropy')\n",
    "keras.layers.Dense(200, activation=\"relu\", kernel_initializer=\"he_normal\"),"
   ]
  },
  {
   "cell_type": "code",
   "execution_count": 158,
   "id": "6fe082ef",
   "metadata": {},
   "outputs": [
    {
     "name": "stdout",
     "output_type": "stream",
     "text": [
      "Epoch 1/100\n",
      "15/15 [==============================] - 0s 701us/step - loss: 1.9015 - accuracy: 0.0616\n",
      "Epoch 2/100\n",
      "15/15 [==============================] - 0s 1ms/step - loss: 1.7410 - accuracy: 0.1040\n",
      "Epoch 3/100\n",
      "15/15 [==============================] - 0s 671us/step - loss: 1.5923 - accuracy: 0.1783\n",
      "Epoch 4/100\n",
      "15/15 [==============================] - 0s 1ms/step - loss: 1.4562 - accuracy: 0.3397\n",
      "Epoch 5/100\n",
      "15/15 [==============================] - 0s 754us/step - loss: 1.3288 - accuracy: 0.4968\n",
      "Epoch 6/100\n",
      "15/15 [==============================] - 0s 2ms/step - loss: 1.2109 - accuracy: 0.6412\n",
      "Epoch 7/100\n",
      "15/15 [==============================] - 0s 1ms/step - loss: 1.1028 - accuracy: 0.7792\n",
      "Epoch 8/100\n",
      "15/15 [==============================] - 0s 1ms/step - loss: 1.0011 - accuracy: 0.8577\n",
      "Epoch 9/100\n",
      "15/15 [==============================] - 0s 1ms/step - loss: 0.9081 - accuracy: 0.8981\n",
      "Epoch 10/100\n",
      "15/15 [==============================] - 0s 503us/step - loss: 0.8228 - accuracy: 0.9257\n",
      "Epoch 11/100\n",
      "15/15 [==============================] - 0s 668us/step - loss: 0.7458 - accuracy: 0.9406\n",
      "Epoch 12/100\n",
      "15/15 [==============================] - 0s 1ms/step - loss: 0.6756 - accuracy: 0.9533\n",
      "Epoch 13/100\n",
      "15/15 [==============================] - 0s 638us/step - loss: 0.6126 - accuracy: 0.9597\n",
      "Epoch 14/100\n",
      "15/15 [==============================] - 0s 917us/step - loss: 0.5555 - accuracy: 0.9597\n",
      "Epoch 15/100\n",
      "15/15 [==============================] - 0s 1ms/step - loss: 0.5049 - accuracy: 0.9660\n",
      "Epoch 16/100\n",
      "15/15 [==============================] - 0s 689us/step - loss: 0.4595 - accuracy: 0.9660\n",
      "Epoch 17/100\n",
      "15/15 [==============================] - 0s 1ms/step - loss: 0.4191 - accuracy: 0.9660\n",
      "Epoch 18/100\n",
      "15/15 [==============================] - 0s 793us/step - loss: 0.3829 - accuracy: 0.9639\n",
      "Epoch 19/100\n",
      "15/15 [==============================] - 0s 747us/step - loss: 0.3504 - accuracy: 0.9639\n",
      "Epoch 20/100\n",
      "15/15 [==============================] - 0s 1ms/step - loss: 0.3223 - accuracy: 0.9660\n",
      "Epoch 21/100\n",
      "15/15 [==============================] - 0s 1ms/step - loss: 0.2970 - accuracy: 0.9660\n",
      "Epoch 22/100\n",
      "15/15 [==============================] - 0s 740us/step - loss: 0.2749 - accuracy: 0.9660\n",
      "Epoch 23/100\n",
      "15/15 [==============================] - 0s 1ms/step - loss: 0.2552 - accuracy: 0.9660\n",
      "Epoch 24/100\n",
      "15/15 [==============================] - 0s 1ms/step - loss: 0.2380 - accuracy: 0.9660\n",
      "Epoch 25/100\n",
      "15/15 [==============================] - 0s 554us/step - loss: 0.2226 - accuracy: 0.9682\n",
      "Epoch 26/100\n",
      "15/15 [==============================] - 0s 1ms/step - loss: 0.2087 - accuracy: 0.9703\n",
      "Epoch 27/100\n",
      "15/15 [==============================] - 0s 731us/step - loss: 0.1964 - accuracy: 0.9703\n",
      "Epoch 28/100\n",
      "15/15 [==============================] - 0s 584us/step - loss: 0.1855 - accuracy: 0.9703\n",
      "Epoch 29/100\n",
      "15/15 [==============================] - 0s 750us/step - loss: 0.1755 - accuracy: 0.9724\n",
      "Epoch 30/100\n",
      "15/15 [==============================] - 0s 1ms/step - loss: 0.1666 - accuracy: 0.9745\n",
      "Epoch 31/100\n",
      "15/15 [==============================] - 0s 984us/step - loss: 0.1584 - accuracy: 0.9745\n",
      "Epoch 32/100\n",
      "15/15 [==============================] - 0s 1ms/step - loss: 0.1510 - accuracy: 0.9745\n",
      "Epoch 33/100\n",
      "15/15 [==============================] - 0s 647us/step - loss: 0.1443 - accuracy: 0.9745\n",
      "Epoch 34/100\n",
      "15/15 [==============================] - 0s 1ms/step - loss: 0.1380 - accuracy: 0.9766\n",
      "Epoch 35/100\n",
      "15/15 [==============================] - 0s 396us/step - loss: 0.1325 - accuracy: 0.9766\n",
      "Epoch 36/100\n",
      "15/15 [==============================] - 0s 1ms/step - loss: 0.1271 - accuracy: 0.9788\n",
      "Epoch 37/100\n",
      "15/15 [==============================] - 0s 825us/step - loss: 0.1222 - accuracy: 0.9809\n",
      "Epoch 38/100\n",
      "15/15 [==============================] - 0s 677us/step - loss: 0.1180 - accuracy: 0.9809\n",
      "Epoch 39/100\n",
      "15/15 [==============================] - 0s 658us/step - loss: 0.1138 - accuracy: 0.9809\n",
      "Epoch 40/100\n",
      "15/15 [==============================] - 0s 1ms/step - loss: 0.1098 - accuracy: 0.9809\n",
      "Epoch 41/100\n",
      "15/15 [==============================] - 0s 759us/step - loss: 0.1063 - accuracy: 0.9809\n",
      "Epoch 42/100\n",
      "15/15 [==============================] - 0s 595us/step - loss: 0.1028 - accuracy: 0.9809\n",
      "Epoch 43/100\n",
      "15/15 [==============================] - 0s 835us/step - loss: 0.0997 - accuracy: 0.9809\n",
      "Epoch 44/100\n",
      "15/15 [==============================] - 0s 583us/step - loss: 0.0967 - accuracy: 0.9809\n",
      "Epoch 45/100\n",
      "15/15 [==============================] - 0s 688us/step - loss: 0.0937 - accuracy: 0.9809\n",
      "Epoch 46/100\n",
      "15/15 [==============================] - 0s 1ms/step - loss: 0.0912 - accuracy: 0.9830\n",
      "Epoch 47/100\n",
      "15/15 [==============================] - 0s 504us/step - loss: 0.0887 - accuracy: 0.9851\n",
      "Epoch 48/100\n",
      "15/15 [==============================] - 0s 1ms/step - loss: 0.0862 - accuracy: 0.9851\n",
      "Epoch 49/100\n",
      "15/15 [==============================] - 0s 1ms/step - loss: 0.0840 - accuracy: 0.9851\n",
      "Epoch 50/100\n",
      "15/15 [==============================] - 0s 797us/step - loss: 0.0818 - accuracy: 0.9851\n",
      "Epoch 51/100\n",
      "15/15 [==============================] - 0s 681us/step - loss: 0.0799 - accuracy: 0.9851\n",
      "Epoch 52/100\n",
      "15/15 [==============================] - 0s 662us/step - loss: 0.0780 - accuracy: 0.9851\n",
      "Epoch 53/100\n",
      "15/15 [==============================] - 0s 882us/step - loss: 0.0761 - accuracy: 0.9851\n",
      "Epoch 54/100\n",
      "15/15 [==============================] - 0s 584us/step - loss: 0.0744 - accuracy: 0.9851\n",
      "Epoch 55/100\n",
      "15/15 [==============================] - 0s 753us/step - loss: 0.0725 - accuracy: 0.9851\n",
      "Epoch 56/100\n",
      "15/15 [==============================] - 0s 809us/step - loss: 0.0708 - accuracy: 0.9851\n",
      "Epoch 57/100\n",
      "15/15 [==============================] - 0s 650us/step - loss: 0.0693 - accuracy: 0.9873\n",
      "Epoch 58/100\n",
      "15/15 [==============================] - 0s 687us/step - loss: 0.0679 - accuracy: 0.9873\n",
      "Epoch 59/100\n",
      "15/15 [==============================] - 0s 745us/step - loss: 0.0664 - accuracy: 0.9873\n",
      "Epoch 60/100\n",
      "15/15 [==============================] - 0s 971us/step - loss: 0.0651 - accuracy: 0.9873\n",
      "Epoch 61/100\n",
      "15/15 [==============================] - 0s 144us/step - loss: 0.0637 - accuracy: 0.9873\n",
      "Epoch 62/100\n",
      "15/15 [==============================] - 0s 713us/step - loss: 0.0626 - accuracy: 0.9873\n",
      "Epoch 63/100\n",
      "15/15 [==============================] - 0s 723us/step - loss: 0.0613 - accuracy: 0.9873\n",
      "Epoch 64/100\n",
      "15/15 [==============================] - 0s 679us/step - loss: 0.0601 - accuracy: 0.9894\n",
      "Epoch 65/100\n",
      "15/15 [==============================] - 0s 571us/step - loss: 0.0590 - accuracy: 0.9894\n",
      "Epoch 66/100\n",
      "15/15 [==============================] - 0s 1ms/step - loss: 0.0580 - accuracy: 0.9894\n",
      "Epoch 67/100\n",
      "15/15 [==============================] - 0s 733us/step - loss: 0.0570 - accuracy: 0.9894\n",
      "Epoch 68/100\n",
      "15/15 [==============================] - 0s 573us/step - loss: 0.0560 - accuracy: 0.9894\n",
      "Epoch 69/100\n",
      "15/15 [==============================] - 0s 589us/step - loss: 0.0551 - accuracy: 0.9894\n",
      "Epoch 70/100\n",
      "15/15 [==============================] - 0s 590us/step - loss: 0.0541 - accuracy: 0.9894\n",
      "Epoch 71/100\n",
      "15/15 [==============================] - 0s 754us/step - loss: 0.0533 - accuracy: 0.9894\n",
      "Epoch 72/100\n",
      "15/15 [==============================] - 0s 674us/step - loss: 0.0524 - accuracy: 0.9894\n",
      "Epoch 73/100\n",
      "15/15 [==============================] - 0s 180us/step - loss: 0.0517 - accuracy: 0.9894\n",
      "Epoch 74/100\n",
      "15/15 [==============================] - 0s 693us/step - loss: 0.0508 - accuracy: 0.9894\n",
      "Epoch 75/100\n",
      "15/15 [==============================] - 0s 676us/step - loss: 0.0501 - accuracy: 0.9894\n",
      "Epoch 76/100\n",
      "15/15 [==============================] - 0s 1ms/step - loss: 0.0494 - accuracy: 0.9894\n",
      "Epoch 77/100\n",
      "15/15 [==============================] - 0s 575us/step - loss: 0.0486 - accuracy: 0.9894\n",
      "Epoch 78/100\n",
      "15/15 [==============================] - 0s 579us/step - loss: 0.0480 - accuracy: 0.9894\n",
      "Epoch 79/100\n",
      "15/15 [==============================] - 0s 769us/step - loss: 0.0474 - accuracy: 0.9894\n",
      "Epoch 80/100\n",
      "15/15 [==============================] - 0s 703us/step - loss: 0.0466 - accuracy: 0.9894\n",
      "Epoch 81/100\n"
     ]
    },
    {
     "name": "stdout",
     "output_type": "stream",
     "text": [
      "15/15 [==============================] - 0s 673us/step - loss: 0.0461 - accuracy: 0.9894\n",
      "Epoch 82/100\n",
      "15/15 [==============================] - 0s 593us/step - loss: 0.0456 - accuracy: 0.9894\n",
      "Epoch 83/100\n",
      "15/15 [==============================] - 0s 685us/step - loss: 0.0449 - accuracy: 0.9894\n",
      "Epoch 84/100\n",
      "15/15 [==============================] - 0s 698us/step - loss: 0.0443 - accuracy: 0.9894\n",
      "Epoch 85/100\n",
      "15/15 [==============================] - 0s 466us/step - loss: 0.0437 - accuracy: 0.9894\n",
      "Epoch 86/100\n",
      "15/15 [==============================] - 0s 1ms/step - loss: 0.0431 - accuracy: 0.9894\n",
      "Epoch 87/100\n",
      "15/15 [==============================] - 0s 714us/step - loss: 0.0427 - accuracy: 0.9894\n",
      "Epoch 88/100\n",
      "15/15 [==============================] - 0s 660us/step - loss: 0.0422 - accuracy: 0.9894\n",
      "Epoch 89/100\n",
      "15/15 [==============================] - 0s 572us/step - loss: 0.0416 - accuracy: 0.9894\n",
      "Epoch 90/100\n",
      "15/15 [==============================] - 0s 604us/step - loss: 0.0412 - accuracy: 0.9894\n",
      "Epoch 91/100\n",
      "15/15 [==============================] - 0s 573us/step - loss: 0.0407 - accuracy: 0.9894\n",
      "Epoch 92/100\n",
      "15/15 [==============================] - 0s 719us/step - loss: 0.0403 - accuracy: 0.9894\n",
      "Epoch 93/100\n",
      "15/15 [==============================] - 0s 754us/step - loss: 0.0400 - accuracy: 0.9894\n",
      "Epoch 94/100\n",
      "15/15 [==============================] - 0s 607us/step - loss: 0.0393 - accuracy: 0.9894\n",
      "Epoch 95/100\n",
      "15/15 [==============================] - 0s 536us/step - loss: 0.0390 - accuracy: 0.9894\n",
      "Epoch 96/100\n",
      "15/15 [==============================] - 0s 0s/step - loss: 0.0386 - accuracy: 0.9894\n",
      "Epoch 97/100\n",
      "15/15 [==============================] - 0s 733us/step - loss: 0.0381 - accuracy: 0.9894\n",
      "Epoch 98/100\n",
      "15/15 [==============================] - 0s 693us/step - loss: 0.0378 - accuracy: 0.9894\n",
      "Epoch 99/100\n",
      "15/15 [==============================] - 0s 692us/step - loss: 0.0373 - accuracy: 0.9894\n",
      "Epoch 100/100\n",
      "15/15 [==============================] - 0s 737us/step - loss: 0.0370 - accuracy: 0.9894\n"
     ]
    }
   ],
   "source": [
    "history = model.fit(x_train, y_train, epochs=100, verbose=1)"
   ]
  },
  {
   "cell_type": "code",
   "execution_count": 159,
   "id": "9207fd8f",
   "metadata": {},
   "outputs": [
    {
     "data": {
      "image/png": "[encoded data removed]",
      "text/plain": [
       "<Figure size 576x360 with 1 Axes>"
      ]
     },
     "metadata": {},
     "output_type": "display_data"
    }
   ],
   "source": [
    "import matplotlib.pyplot as plt\n",
    "pd.DataFrame(history.history).plot(figsize=(8, 5))\n",
    "plt.grid(True)\n",
    "plt.gca().set_ylim(0, 1)\n",
    "plt.show()"
   ]
  },
  {
   "cell_type": "code",
   "execution_count": 160,
   "id": "0f9365f8",
   "metadata": {},
   "outputs": [
    {
     "data": {
      "text/plain": [
       "(<keras.layers.core.dense.Dense at 0x17a3cf8fe20>,)"
      ]
     },
     "execution_count": 160,
     "metadata": {},
     "output_type": "execute_result"
    }
   ],
   "source": [
    "model = keras.Sequential([keras.layers.Dense(12,input_shape=(12,),activation='relu'),keras.layers.Dense(5,activation='softmax')])\n",
    "model.compile(loss=\"MeanAbsoluteError\",optimizer=\"adam\",metrics=[\"mse\",\"MAE\"])\n",
    "keras.layers.Dense(200, activation=\"relu\", kernel_initializer=\"he_normal\"),"
   ]
  },
  {
   "cell_type": "code",
   "execution_count": 161,
   "id": "e5ff54a5",
   "metadata": {},
   "outputs": [
    {
     "name": "stdout",
     "output_type": "stream",
     "text": [
      "Epoch 1/100\n",
      "15/15 [==============================] - 0s 1ms/step - loss: 0.2497 - mse: 0.1106 - MAE: 0.2497\n",
      "Epoch 2/100\n",
      "15/15 [==============================] - 0s 1ms/step - loss: 0.2497 - mse: 0.1106 - MAE: 0.2497\n",
      "Epoch 3/100\n",
      "15/15 [==============================] - 0s 949us/step - loss: 0.2497 - mse: 0.1106 - MAE: 0.2497\n",
      "Epoch 4/100\n",
      "15/15 [==============================] - 0s 706us/step - loss: 0.2497 - mse: 0.1106 - MAE: 0.2497\n",
      "Epoch 5/100\n",
      "15/15 [==============================] - 0s 695us/step - loss: 0.2497 - mse: 0.1106 - MAE: 0.2497\n",
      "Epoch 6/100\n",
      "15/15 [==============================] - 0s 1ms/step - loss: 0.2497 - mse: 0.1106 - MAE: 0.2497\n",
      "Epoch 7/100\n",
      "15/15 [==============================] - 0s 686us/step - loss: 0.2497 - mse: 0.1106 - MAE: 0.2497\n",
      "Epoch 8/100\n",
      "15/15 [==============================] - 0s 905us/step - loss: 0.2497 - mse: 0.1106 - MAE: 0.2497\n",
      "Epoch 9/100\n",
      "15/15 [==============================] - 0s 717us/step - loss: 0.2497 - mse: 0.1106 - MAE: 0.2497\n",
      "Epoch 10/100\n",
      "15/15 [==============================] - 0s 1ms/step - loss: 0.2497 - mse: 0.1106 - MAE: 0.2497\n",
      "Epoch 11/100\n",
      "15/15 [==============================] - 0s 1ms/step - loss: 0.2497 - mse: 0.1106 - MAE: 0.2497\n",
      "Epoch 12/100\n",
      "15/15 [==============================] - 0s 1000us/step - loss: 0.2497 - mse: 0.1106 - MAE: 0.2497\n",
      "Epoch 13/100\n",
      "15/15 [==============================] - 0s 1ms/step - loss: 0.2497 - mse: 0.1106 - MAE: 0.2497\n",
      "Epoch 14/100\n",
      "15/15 [==============================] - 0s 2ms/step - loss: 0.2497 - mse: 0.1106 - MAE: 0.2497\n",
      "Epoch 15/100\n",
      "15/15 [==============================] - 0s 1ms/step - loss: 0.2497 - mse: 0.1106 - MAE: 0.2497\n",
      "Epoch 16/100\n",
      "15/15 [==============================] - 0s 1ms/step - loss: 0.2497 - mse: 0.1106 - MAE: 0.2497\n",
      "Epoch 17/100\n",
      "15/15 [==============================] - 0s 896us/step - loss: 0.2497 - mse: 0.1106 - MAE: 0.2497\n",
      "Epoch 18/100\n",
      "15/15 [==============================] - 0s 1ms/step - loss: 0.2497 - mse: 0.1106 - MAE: 0.2497\n",
      "Epoch 19/100\n",
      "15/15 [==============================] - 0s 1ms/step - loss: 0.2497 - mse: 0.1106 - MAE: 0.2497\n",
      "Epoch 20/100\n",
      "15/15 [==============================] - 0s 1ms/step - loss: 0.2497 - mse: 0.1106 - MAE: 0.2497\n",
      "Epoch 21/100\n",
      "15/15 [==============================] - 0s 1ms/step - loss: 0.2497 - mse: 0.1106 - MAE: 0.2497\n",
      "Epoch 22/100\n",
      "15/15 [==============================] - 0s 777us/step - loss: 0.2497 - mse: 0.1106 - MAE: 0.2497\n",
      "Epoch 23/100\n",
      "15/15 [==============================] - 0s 1ms/step - loss: 0.2497 - mse: 0.1106 - MAE: 0.2497\n",
      "Epoch 24/100\n",
      "15/15 [==============================] - 0s 941us/step - loss: 0.2497 - mse: 0.1106 - MAE: 0.2497\n",
      "Epoch 25/100\n",
      "15/15 [==============================] - 0s 1ms/step - loss: 0.2497 - mse: 0.1106 - MAE: 0.2497\n",
      "Epoch 26/100\n",
      "15/15 [==============================] - 0s 1ms/step - loss: 0.2497 - mse: 0.1106 - MAE: 0.2497\n",
      "Epoch 27/100\n",
      "15/15 [==============================] - 0s 571us/step - loss: 0.2497 - mse: 0.1106 - MAE: 0.2497\n",
      "Epoch 28/100\n",
      "15/15 [==============================] - 0s 575us/step - loss: 0.2497 - mse: 0.1106 - MAE: 0.2497\n",
      "Epoch 29/100\n",
      "15/15 [==============================] - ETA: 0s - loss: 0.2375 - mse: 0.1041 - MAE: 0.237 - 0s 895us/step - loss: 0.2497 - mse: 0.1106 - MAE: 0.2497\n",
      "Epoch 30/100\n",
      "15/15 [==============================] - 0s 721us/step - loss: 0.2497 - mse: 0.1106 - MAE: 0.2497\n",
      "Epoch 31/100\n",
      "15/15 [==============================] - 0s 571us/step - loss: 0.2497 - mse: 0.1106 - MAE: 0.2497\n",
      "Epoch 32/100\n",
      "15/15 [==============================] - 0s 1ms/step - loss: 0.2497 - mse: 0.1106 - MAE: 0.2497\n",
      "Epoch 33/100\n",
      "15/15 [==============================] - 0s 1ms/step - loss: 0.2497 - mse: 0.1106 - MAE: 0.2497\n",
      "Epoch 34/100\n",
      "15/15 [==============================] - 0s 1ms/step - loss: 0.2497 - mse: 0.1106 - MAE: 0.2497\n",
      "Epoch 35/100\n",
      "15/15 [==============================] - 0s 1ms/step - loss: 0.2497 - mse: 0.1106 - MAE: 0.2497\n",
      "Epoch 36/100\n",
      "15/15 [==============================] - 0s 717us/step - loss: 0.2497 - mse: 0.1106 - MAE: 0.2497\n",
      "Epoch 37/100\n",
      "15/15 [==============================] - 0s 1ms/step - loss: 0.2497 - mse: 0.1106 - MAE: 0.2497\n",
      "Epoch 38/100\n",
      "15/15 [==============================] - 0s 1ms/step - loss: 0.2497 - mse: 0.1106 - MAE: 0.2497\n",
      "Epoch 39/100\n",
      "15/15 [==============================] - 0s 703us/step - loss: 0.2497 - mse: 0.1106 - MAE: 0.2497\n",
      "Epoch 40/100\n",
      "15/15 [==============================] - 0s 1ms/step - loss: 0.2497 - mse: 0.1106 - MAE: 0.2497\n",
      "Epoch 41/100\n",
      "15/15 [==============================] - 0s 1ms/step - loss: 0.2497 - mse: 0.1106 - MAE: 0.2497\n",
      "Epoch 42/100\n",
      "15/15 [==============================] - 0s 686us/step - loss: 0.2497 - mse: 0.1106 - MAE: 0.2497\n",
      "Epoch 43/100\n",
      "15/15 [==============================] - 0s 710us/step - loss: 0.2497 - mse: 0.1106 - MAE: 0.2497\n",
      "Epoch 44/100\n",
      "15/15 [==============================] - 0s 1ms/step - loss: 0.2497 - mse: 0.1106 - MAE: 0.2497\n",
      "Epoch 45/100\n",
      "15/15 [==============================] - 0s 991us/step - loss: 0.2497 - mse: 0.1106 - MAE: 0.2497\n",
      "Epoch 46/100\n",
      "15/15 [==============================] - 0s 1ms/step - loss: 0.2497 - mse: 0.1106 - MAE: 0.2497\n",
      "Epoch 47/100\n",
      "15/15 [==============================] - 0s 1ms/step - loss: 0.2497 - mse: 0.1106 - MAE: 0.2497\n",
      "Epoch 48/100\n",
      "15/15 [==============================] - 0s 913us/step - loss: 0.2497 - mse: 0.1106 - MAE: 0.2497\n",
      "Epoch 49/100\n",
      "15/15 [==============================] - 0s 1ms/step - loss: 0.2497 - mse: 0.1106 - MAE: 0.2497\n",
      "Epoch 50/100\n",
      "15/15 [==============================] - 0s 1ms/step - loss: 0.2497 - mse: 0.1106 - MAE: 0.2497\n",
      "Epoch 51/100\n",
      "15/15 [==============================] - 0s 730us/step - loss: 0.2497 - mse: 0.1106 - MAE: 0.2497\n",
      "Epoch 52/100\n",
      "15/15 [==============================] - 0s 913us/step - loss: 0.2497 - mse: 0.1106 - MAE: 0.2497\n",
      "Epoch 53/100\n",
      "15/15 [==============================] - 0s 1ms/step - loss: 0.2497 - mse: 0.1106 - MAE: 0.2497\n",
      "Epoch 54/100\n",
      "15/15 [==============================] - 0s 663us/step - loss: 0.2497 - mse: 0.1106 - MAE: 0.2497\n",
      "Epoch 55/100\n",
      "15/15 [==============================] - 0s 1ms/step - loss: 0.2497 - mse: 0.1106 - MAE: 0.2497\n",
      "Epoch 56/100\n",
      "15/15 [==============================] - 0s 587us/step - loss: 0.2497 - mse: 0.1106 - MAE: 0.2497\n",
      "Epoch 57/100\n",
      "15/15 [==============================] - 0s 571us/step - loss: 0.2497 - mse: 0.1106 - MAE: 0.2497\n",
      "Epoch 58/100\n",
      "15/15 [==============================] - 0s 561us/step - loss: 0.2497 - mse: 0.1106 - MAE: 0.2497\n",
      "Epoch 59/100\n",
      "15/15 [==============================] - 0s 595us/step - loss: 0.2497 - mse: 0.1106 - MAE: 0.2497\n",
      "Epoch 60/100\n",
      "15/15 [==============================] - 0s 1ms/step - loss: 0.2497 - mse: 0.1106 - MAE: 0.2497\n",
      "Epoch 61/100\n",
      "15/15 [==============================] - 0s 892us/step - loss: 0.2497 - mse: 0.1106 - MAE: 0.2497\n",
      "Epoch 62/100\n",
      "15/15 [==============================] - 0s 899us/step - loss: 0.2497 - mse: 0.1106 - MAE: 0.2497\n",
      "Epoch 63/100\n",
      "15/15 [==============================] - 0s 787us/step - loss: 0.2497 - mse: 0.1106 - MAE: 0.2497\n",
      "Epoch 64/100\n",
      "15/15 [==============================] - 0s 803us/step - loss: 0.2497 - mse: 0.1106 - MAE: 0.2497\n",
      "Epoch 65/100\n",
      "15/15 [==============================] - 0s 1ms/step - loss: 0.2497 - mse: 0.1106 - MAE: 0.2497\n",
      "Epoch 66/100\n",
      "15/15 [==============================] - 0s 634us/step - loss: 0.2497 - mse: 0.1106 - MAE: 0.2497\n",
      "Epoch 67/100\n",
      "15/15 [==============================] - 0s 797us/step - loss: 0.2497 - mse: 0.1106 - MAE: 0.2497\n",
      "Epoch 68/100\n",
      "15/15 [==============================] - 0s 936us/step - loss: 0.2497 - mse: 0.1106 - MAE: 0.2497\n",
      "Epoch 69/100\n",
      "15/15 [==============================] - 0s 849us/step - loss: 0.2497 - mse: 0.1106 - MAE: 0.2497\n",
      "Epoch 70/100\n",
      "15/15 [==============================] - 0s 711us/step - loss: 0.2497 - mse: 0.1106 - MAE: 0.2497\n",
      "Epoch 71/100\n",
      "15/15 [==============================] - 0s 739us/step - loss: 0.2497 - mse: 0.1106 - MAE: 0.2497\n",
      "Epoch 72/100\n",
      "15/15 [==============================] - 0s 717us/step - loss: 0.2497 - mse: 0.1106 - MAE: 0.2497\n",
      "Epoch 73/100\n",
      "15/15 [==============================] - 0s 720us/step - loss: 0.2497 - mse: 0.1106 - MAE: 0.2497\n",
      "Epoch 74/100\n",
      "15/15 [==============================] - 0s 924us/step - loss: 0.2497 - mse: 0.1106 - MAE: 0.2497\n",
      "Epoch 75/100\n"
     ]
    },
    {
     "name": "stdout",
     "output_type": "stream",
     "text": [
      "15/15 [==============================] - 0s 579us/step - loss: 0.2497 - mse: 0.1106 - MAE: 0.2497\n",
      "Epoch 76/100\n",
      "15/15 [==============================] - 0s 774us/step - loss: 0.2497 - mse: 0.1106 - MAE: 0.2497\n",
      "Epoch 77/100\n",
      "15/15 [==============================] - 0s 936us/step - loss: 0.2497 - mse: 0.1106 - MAE: 0.2497\n",
      "Epoch 78/100\n",
      "15/15 [==============================] - 0s 694us/step - loss: 0.2497 - mse: 0.1106 - MAE: 0.2497\n",
      "Epoch 79/100\n",
      "15/15 [==============================] - 0s 1ms/step - loss: 0.2497 - mse: 0.1106 - MAE: 0.2497\n",
      "Epoch 80/100\n",
      "15/15 [==============================] - 0s 719us/step - loss: 0.2497 - mse: 0.1106 - MAE: 0.2497\n",
      "Epoch 81/100\n",
      "15/15 [==============================] - 0s 1ms/step - loss: 0.2497 - mse: 0.1106 - MAE: 0.2497\n",
      "Epoch 82/100\n",
      "15/15 [==============================] - 0s 1ms/step - loss: 0.2497 - mse: 0.1106 - MAE: 0.2497\n",
      "Epoch 83/100\n",
      "15/15 [==============================] - 0s 587us/step - loss: 0.2497 - mse: 0.1106 - MAE: 0.2497\n",
      "Epoch 84/100\n",
      "15/15 [==============================] - 0s 665us/step - loss: 0.2497 - mse: 0.1106 - MAE: 0.2497\n",
      "Epoch 85/100\n",
      "15/15 [==============================] - 0s 211us/step - loss: 0.2497 - mse: 0.1106 - MAE: 0.2497\n",
      "Epoch 86/100\n",
      "15/15 [==============================] - 0s 712us/step - loss: 0.2497 - mse: 0.1106 - MAE: 0.2497\n",
      "Epoch 87/100\n",
      "15/15 [==============================] - 0s 1ms/step - loss: 0.2497 - mse: 0.1106 - MAE: 0.2497\n",
      "Epoch 88/100\n",
      "15/15 [==============================] - 0s 1ms/step - loss: 0.2497 - mse: 0.1106 - MAE: 0.2497\n",
      "Epoch 89/100\n",
      "15/15 [==============================] - 0s 849us/step - loss: 0.2497 - mse: 0.1106 - MAE: 0.2497\n",
      "Epoch 90/100\n",
      "15/15 [==============================] - 0s 697us/step - loss: 0.2497 - mse: 0.1106 - MAE: 0.2497\n",
      "Epoch 91/100\n",
      "15/15 [==============================] - 0s 1ms/step - loss: 0.2497 - mse: 0.1106 - MAE: 0.2497\n",
      "Epoch 92/100\n",
      "15/15 [==============================] - 0s 900us/step - loss: 0.2497 - mse: 0.1106 - MAE: 0.2497\n",
      "Epoch 93/100\n",
      "15/15 [==============================] - 0s 1ms/step - loss: 0.2497 - mse: 0.1106 - MAE: 0.2497\n",
      "Epoch 94/100\n",
      "15/15 [==============================] - 0s 761us/step - loss: 0.2497 - mse: 0.1106 - MAE: 0.2497\n",
      "Epoch 95/100\n",
      "15/15 [==============================] - 0s 718us/step - loss: 0.2497 - mse: 0.1106 - MAE: 0.2497\n",
      "Epoch 96/100\n",
      "15/15 [==============================] - 0s 734us/step - loss: 0.2497 - mse: 0.1106 - MAE: 0.2497\n",
      "Epoch 97/100\n",
      "15/15 [==============================] - 0s 1ms/step - loss: 0.2497 - mse: 0.1106 - MAE: 0.2497\n",
      "Epoch 98/100\n",
      "15/15 [==============================] - 0s 626us/step - loss: 0.2497 - mse: 0.1106 - MAE: 0.2497\n",
      "Epoch 99/100\n",
      "15/15 [==============================] - 0s 510us/step - loss: 0.2497 - mse: 0.1106 - MAE: 0.2497\n",
      "Epoch 100/100\n",
      "15/15 [==============================] - 0s 331us/step - loss: 0.2497 - mse: 0.1106 - MAE: 0.2497\n"
     ]
    }
   ],
   "source": [
    "history = model.fit(x_train, y_train, epochs=100, verbose=1)"
   ]
  },
  {
   "cell_type": "code",
   "execution_count": 162,
   "id": "cf09d0d7",
   "metadata": {},
   "outputs": [
    {
     "data": {
      "image/png": "[encoded data removed]",
      "text/plain": [
       "<Figure size 576x360 with 1 Axes>"
      ]
     },
     "metadata": {},
     "output_type": "display_data"
    }
   ],
   "source": [
    "import matplotlib.pyplot as plt\n",
    "pd.DataFrame(history.history).plot(figsize=(8, 5))\n",
    "plt.grid(True)\n",
    "plt.gca().set_ylim(0, 1)\n",
    "plt.show()"
   ]
  },
  {
   "cell_type": "code",
   "execution_count": 163,
   "id": "5a5d2052",
   "metadata": {},
   "outputs": [],
   "source": [
    "replace_dict = dict()\n",
    "num_dict = dict()\n",
    "i=0\n",
    "for val in data['Category'].unique():\n",
    "    replace_dict[val] = i\n",
    "    num_dict[str(i)] = val\n",
    "    i += 1"
   ]
  },
  {
   "cell_type": "code",
   "execution_count": 164,
   "id": "aaed2a73",
   "metadata": {},
   "outputs": [],
   "source": [
    "def predict(model,x):\n",
    "    pred = model.predict(x)\n",
    "    pred_test = np.array([np.argmax(pred[i]) for i in range(len(pred))])\n",
    "    return pred_test\n",
    "\n",
    "def plot_actual_vs_predicted(y_true,y_pred,title):\n",
    "    cm = confusion_matrix(y_true,y_pred)\n",
    "    plt.figure(figsize=(7,7))\n",
    "    sns.heatmap(cm,annot=True,fmt='g',xticklabels=num_dict.values(),yticklabels=num_dict.values())\n",
    "    plt.title(title)\n",
    "    plt.show()\n",
    "    print(\"Classification Report\")\n",
    "    print(classification_report(y_true,y_pred))"
   ]
  },
  {
   "cell_type": "code",
   "execution_count": 165,
   "id": "6258deb3",
   "metadata": {},
   "outputs": [
    {
     "data": {
      "image/png": "[encoded data removed]",
      "text/plain": [
       "<Figure size 504x504 with 2 Axes>"
      ]
     },
     "metadata": {},
     "output_type": "display_data"
    },
    {
     "name": "stdout",
     "output_type": "stream",
     "text": [
      "Classification Report\n",
      "              precision    recall  f1-score   support\n",
      "\n",
      "         0.0       0.78      0.38      0.51       101\n",
      "         1.0       0.00      0.00      0.00        17\n",
      "         2.0       0.00      0.00      0.00         0\n",
      "         3.0       0.00      0.00      0.00         0\n",
      "         4.0       0.00      0.00      0.00         0\n",
      "\n",
      "    accuracy                           0.32       118\n",
      "   macro avg       0.16      0.08      0.10       118\n",
      "weighted avg       0.66      0.32      0.43       118\n",
      "\n"
     ]
    },
    {
     "name": "stderr",
     "output_type": "stream",
     "text": [
      "C:\\Users\\sharm\\anaconda3\\lib\\site-packages\\sklearn\\metrics\\_classification.py:1248: UndefinedMetricWarning: Recall and F-score are ill-defined and being set to 0.0 in labels with no true samples. Use `zero_division` parameter to control this behavior.\n",
      "  _warn_prf(average, modifier, msg_start, len(result))\n",
      "C:\\Users\\sharm\\anaconda3\\lib\\site-packages\\sklearn\\metrics\\_classification.py:1248: UndefinedMetricWarning: Recall and F-score are ill-defined and being set to 0.0 in labels with no true samples. Use `zero_division` parameter to control this behavior.\n",
      "  _warn_prf(average, modifier, msg_start, len(result))\n",
      "C:\\Users\\sharm\\anaconda3\\lib\\site-packages\\sklearn\\metrics\\_classification.py:1248: UndefinedMetricWarning: Recall and F-score are ill-defined and being set to 0.0 in labels with no true samples. Use `zero_division` parameter to control this behavior.\n",
      "  _warn_prf(average, modifier, msg_start, len(result))\n"
     ]
    }
   ],
   "source": [
    "y_test_pred = predict(model,x_test)\n",
    "plot_actual_vs_predicted(y_test,y_test_pred,\"Test Data Predictions\")"
   ]
  },
  {
   "cell_type": "code",
   "execution_count": 141,
   "id": "cc6649d0",
   "metadata": {},
   "outputs": [
    {
     "data": {
      "image/png": "[encoded data removed]",
      "text/plain": [
       "<Figure size 504x504 with 2 Axes>"
      ]
     },
     "metadata": {},
     "output_type": "display_data"
    },
    {
     "name": "stdout",
     "output_type": "stream",
     "text": [
      "Classification Report\n",
      "              precision    recall  f1-score   support\n",
      "\n",
      "         0.0       0.89      0.18      0.30       432\n",
      "         1.0       0.00      0.00      0.00        39\n",
      "         2.0       0.00      0.00      0.00         0\n",
      "         3.0       0.00      0.00      0.00         0\n",
      "         4.0       0.00      0.00      0.00         0\n",
      "\n",
      "    accuracy                           0.17       471\n",
      "   macro avg       0.18      0.04      0.06       471\n",
      "weighted avg       0.81      0.17      0.28       471\n",
      "\n"
     ]
    },
    {
     "name": "stderr",
     "output_type": "stream",
     "text": [
      "C:\\Users\\sharm\\anaconda3\\lib\\site-packages\\sklearn\\metrics\\_classification.py:1248: UndefinedMetricWarning: Precision and F-score are ill-defined and being set to 0.0 in labels with no predicted samples. Use `zero_division` parameter to control this behavior.\n",
      "  _warn_prf(average, modifier, msg_start, len(result))\n",
      "C:\\Users\\sharm\\anaconda3\\lib\\site-packages\\sklearn\\metrics\\_classification.py:1248: UndefinedMetricWarning: Recall and F-score are ill-defined and being set to 0.0 in labels with no true samples. Use `zero_division` parameter to control this behavior.\n",
      "  _warn_prf(average, modifier, msg_start, len(result))\n",
      "C:\\Users\\sharm\\anaconda3\\lib\\site-packages\\sklearn\\metrics\\_classification.py:1248: UndefinedMetricWarning: Precision and F-score are ill-defined and being set to 0.0 in labels with no predicted samples. Use `zero_division` parameter to control this behavior.\n",
      "  _warn_prf(average, modifier, msg_start, len(result))\n",
      "C:\\Users\\sharm\\anaconda3\\lib\\site-packages\\sklearn\\metrics\\_classification.py:1248: UndefinedMetricWarning: Recall and F-score are ill-defined and being set to 0.0 in labels with no true samples. Use `zero_division` parameter to control this behavior.\n",
      "  _warn_prf(average, modifier, msg_start, len(result))\n",
      "C:\\Users\\sharm\\anaconda3\\lib\\site-packages\\sklearn\\metrics\\_classification.py:1248: UndefinedMetricWarning: Precision and F-score are ill-defined and being set to 0.0 in labels with no predicted samples. Use `zero_division` parameter to control this behavior.\n",
      "  _warn_prf(average, modifier, msg_start, len(result))\n",
      "C:\\Users\\sharm\\anaconda3\\lib\\site-packages\\sklearn\\metrics\\_classification.py:1248: UndefinedMetricWarning: Recall and F-score are ill-defined and being set to 0.0 in labels with no true samples. Use `zero_division` parameter to control this behavior.\n",
      "  _warn_prf(average, modifier, msg_start, len(result))\n"
     ]
    }
   ],
   "source": [
    "y_train_pred = predict(model,x_train)\n",
    "actual_vs_predicted(y_train,y_train_pred,\"Train Data Predictions\")"
   ]
  },
  {
   "cell_type": "code",
   "execution_count": null,
   "id": "6d024e6c",
   "metadata": {},
   "outputs": [],
   "source": []
  },
  {
   "cell_type": "code",
   "execution_count": null,
   "id": "cc04beca",
   "metadata": {},
   "outputs": [],
   "source": []
  }
 ],
 "metadata": {
  "kernelspec": {
   "display_name": "Python 3 (ipykernel)",
   "language": "python",
   "name": "python3"
  },
  "language_info": {
   "codemirror_mode": {
    "name": "ipython",
    "version": 3
   },
   "file_extension": ".py",
   "mimetype": "text/x-python",
   "name": "python",
   "nbconvert_exporter": "python",
   "pygments_lexer": "ipython3",
   "version": "3.9.7"
  }
 },
 "nbformat": 4,
 "nbformat_minor": 5
}
